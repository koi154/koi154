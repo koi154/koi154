{
 "cells": [
  {
   "cell_type": "code",
   "execution_count": 9,
   "metadata": {},
   "outputs": [
    {
     "name": "stdout",
     "output_type": "stream",
     "text": [
      "Hello World!\n"
     ]
    }
   ],
   "source": [
    "print(\"Hello World!\")"
   ]
  },
  {
   "cell_type": "code",
   "execution_count": 10,
   "metadata": {},
   "outputs": [],
   "source": [
    "a =1"
   ]
  },
  {
   "cell_type": "code",
   "execution_count": 11,
   "metadata": {},
   "outputs": [
    {
     "data": {
      "text/plain": [
       "1"
      ]
     },
     "execution_count": 11,
     "metadata": {},
     "output_type": "execute_result"
    }
   ],
   "source": [
    "a"
   ]
  },
  {
   "cell_type": "code",
   "execution_count": 12,
   "metadata": {},
   "outputs": [],
   "source": [
    "b = [1,2,3,4,5]"
   ]
  },
  {
   "cell_type": "code",
   "execution_count": 13,
   "metadata": {},
   "outputs": [
    {
     "name": "stdout",
     "output_type": "stream",
     "text": [
      "[1, 2, 3, 4, 5, 1, 2, 3, 4, 5]\n"
     ]
    }
   ],
   "source": [
    "print(b*2)"
   ]
  },
  {
   "cell_type": "code",
   "execution_count": null,
   "metadata": {},
   "outputs": [
    {
     "name": "stdout",
     "output_type": "stream",
     "text": [
      "문제 1\n",
      "flower\n",
      "오타!! 다시 도전\n",
      "게임 소요 시간 : 0.50초\n",
      "문제 1\n",
      "grape\n",
      "오타!! 다시 도전\n",
      "게임 소요 시간 : 3.07초\n",
      "문제 1\n",
      "tree\n",
      "오타!! 다시 도전\n",
      "게임 소요 시간 : 152.31초\n",
      "문제 1\n",
      "onion\n"
     ]
    }
   ],
   "source": [
    "import random\n",
    "import time\n",
    "\n",
    "try:\n",
    "    with open(\"word.txt\", 'r') as f:\n",
    "        word = f.read().split()  # word.txt 파일의 단어들을 리스트로 저장\n",
    "\n",
    "    input(\"타자 게임 준비되면 엔터!!\")\n",
    "    start = time.time()  # 시작 시간 기록\n",
    "\n",
    "    n = 1  # 문제 번호\n",
    "    while n < 11:  # 10문제 출제\n",
    "        print(\"문제\", n)\n",
    "        question = random.choice(word)  # 랜덤하게 단어 선택\n",
    "        print(question)  # 문제 출제\n",
    "        user = input()  # 사용자 입력\n",
    "        \n",
    "        if question == user:  # 정답이면\n",
    "            print(\"통과!!\")\n",
    "            n += 1\n",
    "        else:  # 오답이면\n",
    "            print(\"오타!! 다시 도전\")\n",
    "        \n",
    "        end = time.time()\n",
    "        print(f\"게임 소요 시간 : {end-start:.2f}초\")\n",
    "\n",
    "except:\n",
    "    print(\"파일을 찾을 수 없습니다.\")\n"
   ]
  },
  {
   "cell_type": "code",
   "execution_count": 7,
   "metadata": {},
   "outputs": [
    {
     "name": "stdout",
     "output_type": "stream",
     "text": [
      "[3 1 2]\n",
      "type[array([3, 1, 2])]\n",
      "<class 'list'>\n"
     ]
    }
   ],
   "source": [
    "import numpy as np\n",
    "x = np.array([3,1,2])\n",
    "print(x)\n",
    "print(type[x])\n",
    "print(type([3,1,2]))\n"
   ]
  },
  {
   "cell_type": "code",
   "execution_count": 5,
   "metadata": {},
   "outputs": [
    {
     "name": "stdout",
     "output_type": "stream",
     "text": [
      "1 1\n",
      "1 2\n"
     ]
    }
   ],
   "source": [
    "c= [[1],[1,2]]\n",
    "d = np.array([[1,1],[1,2]])\n",
    "\n",
    "for x,y in d:\n",
    "    print(x,y)"
   ]
  },
  {
   "cell_type": "code",
   "execution_count": 8,
   "metadata": {},
   "outputs": [
    {
     "name": "stdout",
     "output_type": "stream",
     "text": [
      " C ����̺��� �������� �̸��� �����ϴ�.\n",
      " ���� �Ϸ� ��ȣ: 7291-91F2\n",
      "\n",
      " c:\\Users\\zer12\\Desktop\\git-test ���͸�\n",
      "\n",
      "2024-12-13  ���� 11:44    <DIR>          .\n",
      "2024-12-13  ���� 11:44    <DIR>          ..\n",
      "2024-12-11  ���� 12:49    <DIR>          __pycache__\n",
      "2024-11-30  ���� 10:08               722 1.py\n",
      "2024-12-02  ���� 08:54             3,122 2.py\n",
      "2024-12-03  ���� 01:53             3,524 241203.py\n",
      "2024-12-05  ���� 01:13             3,348 241204.py\n",
      "2024-12-06  ���� 09:17            11,110 241205.py\n",
      "2024-12-06  ���� 01:53             3,538 241206.py\n",
      "2024-12-07  ���� 01:49             3,534 241207.py\n",
      "2024-12-09  ���� 01:53             7,121 241209.py\n",
      "2024-12-10  ���� 11:15             5,067 241210.py\n",
      "2024-12-12  ���� 10:39             2,546 241211.py\n",
      "2024-12-13  ���� 09:13            11,648 241212.py\n",
      "2024-12-13  ���� 11:44             3,356 241213.py\n",
      "2024-12-03  ���� 09:20             4,559 3.py\n",
      "2024-11-29  ���� 10:47                15 3ea.txt\n",
      "2024-12-11  ���� 12:53    <DIR>          bbb\n",
      "2024-12-10  ���� 11:22               144 calc_module.py\n",
      "2024-11-26  ���� 01:07                 0 git.txt\n",
      "2024-11-29  ���� 10:47                62 hello.txt\n",
      "2024-12-12  ���� 11:22                30 member.txt\n",
      "2024-12-12  ���� 01:55                12 member_tel.txt\n",
      "2024-11-27  ���� 11:35               101 messi.txt\n",
      "2024-12-10  ���� 01:51             3,398 module.py\n",
      "2024-12-11  ���� 12:40    <DIR>          modules\n",
      "2024-11-29  ���� 10:47                90 my.txt\n",
      "2024-12-11  ���� 01:21               249 mylib2.py\n",
      "2024-12-13  ���� 09:34    <DIR>          output\n",
      "2024-11-30  ���� 09:18                10 revert.txt\n",
      "2024-11-27  ���� 01:42    <DIR>          smartFactory\n",
      "2024-11-27  ���� 01:55    <DIR>          smartFactory1\n",
      "2024-11-30  ���� 01:52                36 syj.txt\n",
      "2024-12-11  ���� 12:28             2,181 sys_ex1.py\n",
      "2024-12-13  ���� 12:15             4,272 test.ipynb\n",
      "2024-12-11  ���� 09:13               540 test.py\n",
      "2024-12-12  ���� 12:18                20 test.txt\n",
      "2024-12-12  ���� 10:45                64 word.txt\n",
      "              30�� ����              74,419 ����Ʈ\n",
      "               8�� ���͸�  162,351,108,096 ����Ʈ ����\n"
     ]
    }
   ],
   "source": [
    "%ls"
   ]
  },
  {
   "cell_type": "code",
   "execution_count": 9,
   "metadata": {},
   "outputs": [
    {
     "name": "stdout",
     "output_type": "stream",
     "text": [
      "[3. 6. 9.]\n",
      "[-1. -2. -3.]\n",
      "[ 2.  8. 18.]\n",
      "[0.5 0.5 0.5]\n"
     ]
    }
   ],
   "source": [
    "x = np.array([1.0, 2.0, 3.0])\n",
    "y = np.array([2.0, 4.0, 6.0])\n",
    "print(x+y)\n",
    "print(x-y)\n",
    "print(x*y)\n",
    "print(x/y)"
   ]
  },
  {
   "cell_type": "code",
   "execution_count": 14,
   "metadata": {},
   "outputs": [
    {
     "name": "stdout",
     "output_type": "stream",
     "text": [
      "(3,)\n",
      "float64\n",
      "(2, 2)\n",
      "[1. 2. 3.]\n"
     ]
    }
   ],
   "source": [
    "print(x.shape)\n",
    "print(x.dtype)\n",
    "print(d.shape)\n",
    "print(y / 2.0)"
   ]
  },
  {
   "cell_type": "code",
   "execution_count": 15,
   "metadata": {},
   "outputs": [
    {
     "name": "stdout",
     "output_type": "stream",
     "text": [
      "1\n"
     ]
    }
   ],
   "source": [
    "print(x.ndim)"
   ]
  },
  {
   "cell_type": "code",
   "execution_count": 17,
   "metadata": {},
   "outputs": [
    {
     "name": "stdout",
     "output_type": "stream",
     "text": [
      "2\n"
     ]
    }
   ],
   "source": [
    "a = np.array([[1,2], [3,4], [5,6]])\n",
    "print(a.ndim)"
   ]
  },
  {
   "cell_type": "code",
   "execution_count": 18,
   "metadata": {},
   "outputs": [
    {
     "name": "stdout",
     "output_type": "stream",
     "text": [
      "(3, 2)\n"
     ]
    }
   ],
   "source": [
    "print(a.shape)"
   ]
  },
  {
   "cell_type": "code",
   "execution_count": 21,
   "metadata": {},
   "outputs": [
    {
     "name": "stdout",
     "output_type": "stream",
     "text": [
      "3\n"
     ]
    }
   ],
   "source": [
    "a = np.array([[[1],[2]], [[3],[4]], [[5],[6]]])\n",
    "print(a.ndim)"
   ]
  },
  {
   "cell_type": "code",
   "execution_count": 22,
   "metadata": {},
   "outputs": [
    {
     "name": "stdout",
     "output_type": "stream",
     "text": [
      "(3, 2, 1)\n"
     ]
    }
   ],
   "source": [
    "print(a.shape)"
   ]
  },
  {
   "cell_type": "code",
   "execution_count": 23,
   "metadata": {},
   "outputs": [],
   "source": [
    "a = np.array([[[1,2],[2,2]], [[3,2],[4,2]], [[5,2],[6,2]]])"
   ]
  },
  {
   "cell_type": "code",
   "execution_count": 24,
   "metadata": {},
   "outputs": [
    {
     "name": "stdout",
     "output_type": "stream",
     "text": [
      "3\n",
      "(3, 2, 2)\n"
     ]
    }
   ],
   "source": [
    "print(a.ndim)\n",
    "print(a.shape)"
   ]
  },
  {
   "cell_type": "code",
   "execution_count": 25,
   "metadata": {},
   "outputs": [
    {
     "data": {
      "text/plain": [
       "8"
      ]
     },
     "execution_count": 25,
     "metadata": {},
     "output_type": "execute_result"
    }
   ],
   "source": [
    "np.dot(4,2)"
   ]
  },
  {
   "cell_type": "code",
   "execution_count": 27,
   "metadata": {},
   "outputs": [
    {
     "data": {
      "text/plain": [
       "24"
      ]
     },
     "execution_count": 27,
     "metadata": {},
     "output_type": "execute_result"
    }
   ],
   "source": [
    "ndar1 = np.array([3,2])\n",
    "ndar2 = np.array([4,6])\n",
    "np.dot(ndar1,ndar2)\n"
   ]
  },
  {
   "cell_type": "code",
   "execution_count": 28,
   "metadata": {},
   "outputs": [
    {
     "data": {
      "text/plain": [
       "array([[ 7, 10],\n",
       "       [15, 22]])"
      ]
     },
     "execution_count": 28,
     "metadata": {},
     "output_type": "execute_result"
    }
   ],
   "source": [
    "ndar1 = np.array([[1,2],[3,4]])\n",
    "ndar2 = np.array([[1,2],[3,4]])\n",
    "np.dot(ndar1,ndar2)\n"
   ]
  },
  {
   "cell_type": "code",
   "execution_count": 29,
   "metadata": {},
   "outputs": [
    {
     "data": {
      "text/plain": [
       "array([[ 7, 10],\n",
       "       [15, 22]])"
      ]
     },
     "execution_count": 29,
     "metadata": {},
     "output_type": "execute_result"
    }
   ],
   "source": [
    "ndar1 = np.array([[1,2],[4,5]])\n",
    "ndar1 = np.array([[1,2],[3,4]])\n",
    "np.matmul(ndar1,ndar2) # (a,b) * (b,c) b위치 같아야함."
   ]
  },
  {
   "cell_type": "code",
   "execution_count": 32,
   "metadata": {},
   "outputs": [
    {
     "name": "stdout",
     "output_type": "stream",
     "text": [
      "(3, 2)\n",
      "2\n",
      "1\n",
      "[[6 3]\n",
      " [5 2]\n",
      " [4 1]]\n"
     ]
    }
   ],
   "source": [
    "ndar2 = np.array([[6,3],[5,2],[4,1]])\n",
    "print(ndar2.shape)\n",
    "print(ndar2.ndim)\n",
    "a = ndar2.flatten()\n",
    "print(a.ndim)\n",
    "print(ndar2)\n"
   ]
  },
  {
   "cell_type": "code",
   "execution_count": 33,
   "metadata": {},
   "outputs": [
    {
     "data": {
      "text/plain": [
       "array([[1, 2, 2],\n",
       "       [3, 3, 4]])"
      ]
     },
     "execution_count": 33,
     "metadata": {},
     "output_type": "execute_result"
    }
   ],
   "source": [
    "ndarr = np.array([[1,2],[2,3],[3,4]]) # 3X2\n",
    "ndarr.reshape(2,3) # 배열의 차원을 변경"
   ]
  },
  {
   "cell_type": "code",
   "execution_count": 35,
   "metadata": {},
   "outputs": [
    {
     "data": {
      "text/plain": [
       "array([[1],\n",
       "       [2],\n",
       "       [2],\n",
       "       [3],\n",
       "       [3],\n",
       "       [4]])"
      ]
     },
     "execution_count": 35,
     "metadata": {},
     "output_type": "execute_result"
    }
   ],
   "source": [
    "ndarr.reshape(6,1)"
   ]
  },
  {
   "cell_type": "code",
   "execution_count": 36,
   "metadata": {},
   "outputs": [
    {
     "data": {
      "text/plain": [
       "array([[1, 1, 4, 0],\n",
       "       [4, 2, 4, 3]])"
      ]
     },
     "execution_count": 36,
     "metadata": {},
     "output_type": "execute_result"
    }
   ],
   "source": [
    "np.random.randint(5, size=(2,4))"
   ]
  },
  {
   "cell_type": "code",
   "execution_count": 38,
   "metadata": {},
   "outputs": [
    {
     "data": {
      "text/plain": [
       "array([[0.05243432, 0.71805665, 0.42987965, 0.51586311],\n",
       "       [0.99581104, 0.0716856 , 0.15270293, 0.97349581]])"
      ]
     },
     "execution_count": 38,
     "metadata": {},
     "output_type": "execute_result"
    }
   ],
   "source": [
    "np.random.rand(2,4)"
   ]
  },
  {
   "cell_type": "code",
   "execution_count": 40,
   "metadata": {},
   "outputs": [],
   "source": [
    "rng = np.random.default_rng()\n"
   ]
  },
  {
   "cell_type": "code",
   "execution_count": 41,
   "metadata": {},
   "outputs": [
    {
     "data": {
      "text/plain": [
       "0.9115386346920135"
      ]
     },
     "execution_count": 41,
     "metadata": {},
     "output_type": "execute_result"
    }
   ],
   "source": [
    "rng.random()"
   ]
  },
  {
   "cell_type": "code",
   "execution_count": 42,
   "metadata": {},
   "outputs": [
    {
     "data": {
      "text/plain": [
       "array([[0, 1, 1, 1],\n",
       "       [2, 3, 8, 0]], dtype=int64)"
      ]
     },
     "execution_count": 42,
     "metadata": {},
     "output_type": "execute_result"
    }
   ],
   "source": [
    "rng.integers(0, 10, (2,4) )"
   ]
  },
  {
   "cell_type": "code",
   "execution_count": 43,
   "metadata": {},
   "outputs": [],
   "source": [
    "ndarr = np.array([[6,3],[5,2],[4,1]])"
   ]
  },
  {
   "cell_type": "code",
   "execution_count": 46,
   "metadata": {},
   "outputs": [
    {
     "data": {
      "text/plain": [
       "array([[ True, False],\n",
       "       [ True, False],\n",
       "       [ True, False]])"
      ]
     },
     "execution_count": 46,
     "metadata": {},
     "output_type": "execute_result"
    }
   ],
   "source": [
    "ndarr > 3\n"
   ]
  },
  {
   "cell_type": "code",
   "execution_count": 49,
   "metadata": {},
   "outputs": [
    {
     "data": {
      "text/plain": [
       "array([6, 5, 4])"
      ]
     },
     "execution_count": 49,
     "metadata": {},
     "output_type": "execute_result"
    }
   ],
   "source": [
    "ndarr = np.array([[6,3],[5,2],[4,1]])\n",
    "ndarr[ndarr > 3]"
   ]
  },
  {
   "cell_type": "code",
   "execution_count": 50,
   "metadata": {},
   "outputs": [
    {
     "data": {
      "text/plain": [
       "array([[5, 2],\n",
       "       [4, 1]])"
      ]
     },
     "execution_count": 50,
     "metadata": {},
     "output_type": "execute_result"
    }
   ],
   "source": [
    "ndarr[1:]"
   ]
  },
  {
   "cell_type": "code",
   "execution_count": null,
   "metadata": {},
   "outputs": [
    {
     "ename": "NameError",
     "evalue": "name 'np' is not defined",
     "output_type": "error",
     "traceback": [
      "\u001b[1;31m---------------------------------------------------------------------------\u001b[0m",
      "\u001b[1;31mNameError\u001b[0m                                 Traceback (most recent call last)",
      "Cell \u001b[1;32mIn[3], line 1\u001b[0m\n\u001b[1;32m----> 1\u001b[0m np\u001b[38;5;241m.\u001b[39mzeros(\u001b[38;5;241m2\u001b[39m,\u001b[38;5;241m2\u001b[39m)\n",
      "\u001b[1;31mNameError\u001b[0m: name 'np' is not defined"
     ]
    }
   ],
   "source": [
    "np.zeros(2,2)"
   ]
  },
  {
   "cell_type": "code",
   "execution_count": 4,
   "metadata": {},
   "outputs": [],
   "source": [
    "import numpy as np"
   ]
  },
  {
   "cell_type": "code",
   "execution_count": 26,
   "metadata": {},
   "outputs": [
    {
     "name": "stdout",
     "output_type": "stream",
     "text": [
      "[35 36 37 38 39 40 41 42 43 44 45 46 47 48 49 50 51 52 53 54 55 56 57 58\n",
      " 59 60 61 62 63 64 65 66 67 68 69 70 71 72 73 74]\n",
      "[[35 36 37 38]\n",
      " [39 40 41 42]\n",
      " [43 44 45 46]\n",
      " [47 48 49 50]\n",
      " [51 52 53 54]\n",
      " [55 56 57 58]\n",
      " [59 60 61 62]\n",
      " [63 64 65 66]\n",
      " [67 68 69 70]\n",
      " [71 72 73 74]]\n",
      "[[71 72 73 74]\n",
      " [67 68 69 70]\n",
      " [63 64 65 66]\n",
      " [59 60 61 62]\n",
      " [55 56 57 58]\n",
      " [51 52 53 54]\n",
      " [47 48 49 50]\n",
      " [43 44 45 46]\n",
      " [39 40 41 42]\n",
      " [35 36 37 38]]\n",
      "[[41 42]\n",
      " [45 46]\n",
      " [49 50]\n",
      " [53 54]\n",
      " [57 58]\n",
      " [61 62]\n",
      " [65 66]\n",
      " [69 70]]\n"
     ]
    }
   ],
   "source": [
    "#실습. numpy 모듈 사용해보기1\n",
    "import numpy as np\n",
    "# 10개의 0으로 채워진 array를 만들고 출력\n",
    "# arr1 = np.zeros(10)\n",
    "# print(arr1)\n",
    "# 1번에서 만들어진 array에서 5번째 값을 1로 바꾸고 출력\n",
    "# arr1[4] = 1\n",
    "# print(arr1)\n",
    "# 10부터 30까지의 수로 이루어진 array 만들고 출력\n",
    "# arr2 = np.arange(10,31)\n",
    "# print(arr2)\n",
    "# 0부터 99까지의 난수로 이루어진 2x2 array를 만들고 출력\n",
    "# arr3 = np.random.randint(0, 100, (2,2))\n",
    "# print(arr3)\n",
    "# 0부터 1사이의 난수로 이루어진 2x4 array를 만들고 출력\n",
    "# arr4 = np.random.rand(2,4)\n",
    "# print(arr4)\n",
    "# 6.35부터 74까지의 순차적인 수로 이루어진 1차원 배열을 만들고 10x4 행렬로 변환 후 출력\n",
    "arr5 = np.arange(35,75)\n",
    "print(arr5)\n",
    "arr5_1 = arr5.reshape(10,4)\n",
    "print(arr5_1)\n",
    "# 6번에서 만든 배열을 맨 끝의 행부터 역순으로 출력\n",
    "arr6 = arr5_1[::-1]\n",
    "print(arr6)\n",
    "# 6번에서 만든 배열 중 두 번쨰 행부터 마지막 진전 행까지, 세번째 열부터 마지막 열까지 슬라이싱해서 출력\n",
    "arr7 = arr5_1[1:-1, 2:]\n",
    "print(arr7)"
   ]
  },
  {
   "cell_type": "code",
   "execution_count": 38,
   "metadata": {},
   "outputs": [
    {
     "name": "stdout",
     "output_type": "stream",
     "text": [
      "[38 42 46 50 54 58 62 66 70 74]\n",
      "[[38]\n",
      " [42]\n",
      " [46]\n",
      " [50]\n",
      " [54]\n",
      " [58]\n",
      " [62]\n",
      " [66]\n",
      " [70]\n",
      " [74]]\n",
      "[[74]\n",
      " [70]\n",
      " [66]\n",
      " [62]\n",
      " [58]\n",
      " [54]\n",
      " [50]\n",
      " [46]\n",
      " [42]\n",
      " [38]]\n",
      "[[44 24 29 19 15 27]\n",
      " [12 50 25 28 50 39]\n",
      " [37 11 31  6  4 11]\n",
      " [ 7 15 35  3 29  3]\n",
      " [18 34 31 16 19 11]]\n",
      "[44 24 12 50 28 50  6  4 18 34 16]\n",
      "[[26 15 22 47 33 17]\n",
      " [27 25 31 48 11 17]\n",
      " [46 12 24 45 37 32]\n",
      " [44  4 37  9 12 25]\n",
      " [30  4 32 11 12 24]]\n",
      "[26 22 48 46 12 24 32 44  4 12 30  4 32 12 24]\n"
     ]
    }
   ],
   "source": [
    "import numpy as np\n",
    "# 9 6번에서 만든 배열에서 마지막 열에 해당되는 모든 값을 출력 (1차원 배열로)\n",
    "arr5 = np.arange(35,75).reshape(10,4)\n",
    "arr9 = arr5[:, -1]\n",
    "print(arr9)\n",
    "# 9-1 6번에서 만든 배열에서 마지막 열에 해당되는 모든 값을 출력 (2차원 배열로)\n",
    "arr9_1 = arr9.reshape(10,1)\n",
    "print(arr9_1)\n",
    "# 10 9-1번에서 만든 배열을 역순으로 정렬해서 출력\n",
    "arr10 = arr9_1[::-1]\n",
    "print(arr10)\n",
    "# 11. 1부터 50까지의 난수로 된 5x6 배열로 만들고, 배열에서 짝수만 선택하여 출력하는 코드를 작성\n",
    "arr11 = np.random.randint(1, 51, (5,6))\n",
    "print(arr11)\n",
    "even11 = arr11[arr11 % 2 == 0]\n",
    "print(even11)\n",
    "# 11번 rng 버전\n",
    "rng = np.random.default_rng()\n",
    "ndarr = rng.integers(1,51, size=(5,6))\n",
    "print(ndarr)\n",
    "print(ndarr[ndarr%2 == 0])"
   ]
  },
  {
   "cell_type": "code",
   "execution_count": 41,
   "metadata": {},
   "outputs": [
    {
     "name": "stdout",
     "output_type": "stream",
     "text": [
      "(2, 2)\n",
      "[[[1 2]\n",
      "  [3 4]]]\n",
      "(1, 2, 2)\n",
      "[[[1 2]]\n",
      "\n",
      " [[3 4]]]\n",
      "(2, 1, 2)\n",
      "[[[1]\n",
      "  [2]]\n",
      "\n",
      " [[3]\n",
      "  [4]]]\n",
      "(2, 2, 1)\n"
     ]
    }
   ],
   "source": [
    "import numpy as np\n",
    "a = np.array([[1,2],[3,4]])\n",
    "print(a.shape)\n",
    "\n",
    "expanded = np.expand_dims(a,0)\n",
    "print(expanded)\n",
    "print(expanded.shape)\n",
    "\n",
    "expanded = np.expand_dims(a,1)\n",
    "print(expanded)\n",
    "print(expanded.shape)\n",
    "\n",
    "expanded = np.expand_dims(a,2)\n",
    "print(expanded)\n",
    "print(expanded.shape)\n"
   ]
  },
  {
   "cell_type": "code",
   "execution_count": 43,
   "metadata": {},
   "outputs": [
    {
     "name": "stdout",
     "output_type": "stream",
     "text": [
      "[[[[1. 1. 1.]]\n",
      "\n",
      "  [[1. 1. 1.]]]]\n",
      "[[1. 1. 1.]\n",
      " [1. 1. 1.]]\n",
      "(2, 3)\n",
      "[[[1. 1. 1.]]\n",
      "\n",
      " [[1. 1. 1.]]]\n",
      "(2, 1, 3)\n",
      "[[[1. 1. 1.]\n",
      "  [1. 1. 1.]]]\n",
      "(1, 2, 3)\n"
     ]
    }
   ],
   "source": [
    "np_ones = np.ones((1,2,1,3))\n",
    "print(np_ones)\n",
    "\n",
    "[[[[1. 1. 1.]]\n",
    "\n",
    "  [[1. 1. 1.]]]] # 노란색안에 보라색1개, 보라색안에 파란색2개, 파란색안에 노란색1개, 노란색안에 1이 3개\n",
    "\n",
    "squeezed = np.squeeze(np_ones) #1,2,1,3 > 1만 삭제: 2,3\n",
    "print(squeezed)\n",
    "print(squeezed.shape)\n",
    "\n",
    "squeezed = np.squeeze(np_ones, 0) #1,2,1,3 > 0번째 위치 지우기\n",
    "print(squeezed)\n",
    "print(squeezed.shape)\n",
    "\n",
    "squeezed = np.squeeze(np_ones, 2) # 1,2,1,,3 > 2번째 위치 지우기\n",
    "print(squeezed)\n",
    "print(squeezed.shape)\n",
    "\n"
   ]
  },
  {
   "cell_type": "code",
   "execution_count": 45,
   "metadata": {},
   "outputs": [
    {
     "name": "stdout",
     "output_type": "stream",
     "text": [
      "[1 2 3 4]\n",
      "[1 2 3 2]\n"
     ]
    }
   ],
   "source": [
    "a = [1,2,2,3,4,3,4,3,1]\n",
    "u_a, counts = np.unique(a,return_counts=True)\n",
    "print(u_a)\n",
    "print(counts)"
   ]
  },
  {
   "cell_type": "code",
   "execution_count": 47,
   "metadata": {},
   "outputs": [
    {
     "name": "stdout",
     "output_type": "stream",
     "text": [
      "[1 2 3 4]\n",
      "[0 1 3 4]\n"
     ]
    }
   ],
   "source": [
    "a = [1,2,2,3,4,3,4,3,1]\n",
    "u_a, indexs = np.unique(a,return_index=True)\n",
    "print(u_a)\n",
    "print(indexs)"
   ]
  },
  {
   "cell_type": "code",
   "execution_count": 50,
   "metadata": {},
   "outputs": [
    {
     "name": "stdout",
     "output_type": "stream",
     "text": [
      "[1 2 3 4]\n",
      "[0 1 3 4]\n",
      "[2 2 3 2]\n"
     ]
    }
   ],
   "source": [
    "a = [1,2,2,3,4,3,4,3,1]\n",
    "u_a, indexs, counts = np.unique(a,return_index=True, return_counts=True) #인덱스 > 카운츠 순서\n",
    "print(u_a)\n",
    "print(indexs)\n",
    "print(counts)"
   ]
  },
  {
   "cell_type": "code",
   "execution_count": 53,
   "metadata": {},
   "outputs": [
    {
     "name": "stdout",
     "output_type": "stream",
     "text": [
      "2 3 5\n",
      "3 5 2\n",
      "2 5 3\n"
     ]
    }
   ],
   "source": [
    "def add(a=1, b=1):\n",
    "    return a,b,a+b #리턴순서에 따른 결과\n",
    "\n",
    "a,b,sum = add(2,3) \n",
    "print(a,b,sum) \n",
    "\n",
    "sum,a,b = add(2,3) #sum=2, a=3, b=5 \n",
    "print(a,b,sum) # 3,5,2\n",
    "\n",
    "def add(a=1, b=1):\n",
    "    return a,b,a+b #리턴순서에 따른 결과\n",
    "sum,a,b = add(b=2,a=3) #sum=3 a=2 b=5\n",
    "print(a,b,sum) #2,5,3"
   ]
  },
  {
   "cell_type": "code",
   "execution_count": 54,
   "metadata": {},
   "outputs": [
    {
     "name": "stdout",
     "output_type": "stream",
     "text": [
      "a [1 4 2 3]\n",
      "b [1 2 3 4]\n",
      "c [0 2 3 1]\n",
      "cc [1 2 3 4]\n",
      "a [1 2 3 4]\n"
     ]
    }
   ],
   "source": [
    "a = np.array([1,4,2,3])\n",
    "b = np.sort(a)\n",
    "print(f\"a {a}\") # 1,4,2,3\n",
    "print(f\"b {b}\") # 1,4,2,3 를 정렬해서 1,2,3,4\n",
    "c = np.argsort(a) # 원본 행렬이 정렬 되었을때 해당 원소의 인덱스 반환\n",
    "print(f\"c {c}\") # 1 4 2 3 원본 행렬\n",
    "                # 1 2 3 4 원본 정렬\n",
    "                # 0 1 2 3 위치  \n",
    "                # 0 2 3 1 위치 변환\n",
    "print(f\"cc {a[c]}\") # 1 2 3 4 c의 0 2 3 1 > a의 0번째가 1 a의 2번째가 2 a의 3번째가 3 a의 1번째가 4\n",
    "a.sort()\n",
    "print(f\"a {a}\")\n",
    "\n",
    "\n"
   ]
  },
  {
   "cell_type": "code",
   "execution_count": 55,
   "metadata": {},
   "outputs": [
    {
     "data": {
      "text/plain": [
       "2.5"
      ]
     },
     "execution_count": 55,
     "metadata": {},
     "output_type": "execute_result"
    }
   ],
   "source": [
    "a = np.array([1,2,3,4])\n",
    "np.mean(a)"
   ]
  },
  {
   "cell_type": "code",
   "execution_count": 56,
   "metadata": {},
   "outputs": [
    {
     "data": {
      "text/plain": [
       "1.118033988749895"
      ]
     },
     "execution_count": 56,
     "metadata": {},
     "output_type": "execute_result"
    }
   ],
   "source": [
    "np.std(a)"
   ]
  },
  {
   "cell_type": "code",
   "execution_count": 57,
   "metadata": {},
   "outputs": [
    {
     "data": {
      "text/plain": [
       "1.25"
      ]
     },
     "execution_count": 57,
     "metadata": {},
     "output_type": "execute_result"
    }
   ],
   "source": [
    "np.var(a)"
   ]
  },
  {
   "cell_type": "code",
   "execution_count": 58,
   "metadata": {},
   "outputs": [
    {
     "data": {
      "text/plain": [
       "4"
      ]
     },
     "execution_count": 58,
     "metadata": {},
     "output_type": "execute_result"
    }
   ],
   "source": [
    "np.max(a)"
   ]
  },
  {
   "cell_type": "code",
   "execution_count": 59,
   "metadata": {},
   "outputs": [
    {
     "data": {
      "text/plain": [
       "1"
      ]
     },
     "execution_count": 59,
     "metadata": {},
     "output_type": "execute_result"
    }
   ],
   "source": [
    "np.min(a)"
   ]
  },
  {
   "cell_type": "code",
   "execution_count": 60,
   "metadata": {},
   "outputs": [
    {
     "data": {
      "text/plain": [
       "10"
      ]
     },
     "execution_count": 60,
     "metadata": {},
     "output_type": "execute_result"
    }
   ],
   "source": [
    "np.sum(a)"
   ]
  },
  {
   "cell_type": "code",
   "execution_count": 62,
   "metadata": {},
   "outputs": [
    {
     "data": {
      "text/plain": [
       "24"
      ]
     },
     "execution_count": 62,
     "metadata": {},
     "output_type": "execute_result"
    }
   ],
   "source": [
    "np.prod(a)"
   ]
  },
  {
   "cell_type": "code",
   "execution_count": 63,
   "metadata": {},
   "outputs": [
    {
     "data": {
      "text/plain": [
       "2.5"
      ]
     },
     "execution_count": 63,
     "metadata": {},
     "output_type": "execute_result"
    }
   ],
   "source": [
    "np.median(a)"
   ]
  },
  {
   "cell_type": "code",
   "execution_count": 70,
   "metadata": {},
   "outputs": [
    {
     "data": {
      "text/plain": [
       "3.5"
      ]
     },
     "execution_count": 70,
     "metadata": {},
     "output_type": "execute_result"
    }
   ],
   "source": [
    "a = np.array([1,2,3,4,5,100])\n",
    "np.median(a)\n"
   ]
  },
  {
   "cell_type": "code",
   "execution_count": 69,
   "metadata": {},
   "outputs": [
    {
     "data": {
      "text/plain": [
       "4.0"
      ]
     },
     "execution_count": 69,
     "metadata": {},
     "output_type": "execute_result"
    }
   ],
   "source": [
    "a = np.array([1,2,3,4,5,100,1000])\n",
    "np.median(a)"
   ]
  },
  {
   "cell_type": "code",
   "execution_count": 82,
   "metadata": {},
   "outputs": [
    {
     "name": "stdout",
     "output_type": "stream",
     "text": [
      "[  1   2   3   4   5   7   8   9  10  11  24 100]\n",
      "100\n",
      "1\n",
      "15.333333333333334\n",
      "184\n",
      "5.0\n"
     ]
    }
   ],
   "source": [
    "#실습.Numpy 모듈 사용해보기2\n",
    "\n",
    "a = ([1,1,2,3,4,5,5,5,5,7,8,9,10,11,24,100])\n",
    "# 1.중복을 제거한 배열 출력\n",
    "unique_a = np.unique(a)\n",
    "print(unique_a)\n",
    "# 2. 1의 결과의 최대,최소,평균값을 출력\n",
    "print(np.max(unique_a))\n",
    "print(np.min(unique_a))\n",
    "print(np.mean(unique_a))\n",
    "# 3. 1의 결과의 모든 합 출력\n",
    "print(np.sum(unique_a))\n",
    "# 4. 중복을 제거하지 않은 배열의 중간값 출력\n",
    "not_unique_a = np.array(a)\n",
    "#print(not_unique_a)\n",
    "print(np.median(not_unique_a))"
   ]
  },
  {
   "cell_type": "code",
   "execution_count": 110,
   "metadata": {},
   "outputs": [
    {
     "name": "stdout",
     "output_type": "stream",
     "text": [
      "[[  0   1   2   3   4]\n",
      " [-99   6 -99   8 -99]\n",
      " [-99  11 -99  13 -99]]\n",
      "0\n",
      "-99\n",
      "-66.0\n",
      "-283\n",
      "[100  24  11  10   9   8   7   5   5   5   5   4   3   2   1   1]\n"
     ]
    }
   ],
   "source": [
    "#실습. Numpy 모듈 사용해보기3\n",
    "x = np.arange(15, dtype=np.int64).reshape(3, 5)\n",
    "#print(x)\n",
    "x[1:, ::2] = -99 #1행부터 끝까지, 2칸 간격으로(0번째,2번째,4번째 열) 변환\n",
    "print(x)\n",
    "# 1. 1열의 최대,최소,평균값 출력\n",
    "print(np.max(x[:,0])) #1열\n",
    "print(np.min(x[:,0])) #1열\n",
    "print(np.mean(x[:,0])) #1열\n",
    "# 2. 2행의 모든 합출력\n",
    "print(np.sum(x[1,:])) #2행 \n",
    "# 3. 실습 2번 1차원 배열을 argsort 이용하여 내림차순 정렬\n",
    "a = np.array([1,1,2,3,4,5,5,5,5,7,8,9,10,11,24,100])\n",
    "b = np.argsort(a)[::-1] #np.argsort\n",
    "print(a[b])"
   ]
  },
  {
   "cell_type": "markdown",
   "metadata": {},
   "source": []
  },
  {
   "cell_type": "markdown",
   "metadata": {},
   "source": []
  }
 ],
 "metadata": {
  "kernelspec": {
   "display_name": "base",
   "language": "python",
   "name": "python3"
  },
  "language_info": {
   "codemirror_mode": {
    "name": "ipython",
    "version": 3
   },
   "file_extension": ".py",
   "mimetype": "text/x-python",
   "name": "python",
   "nbconvert_exporter": "python",
   "pygments_lexer": "ipython3",
   "version": "3.12.7"
  }
 },
 "nbformat": 4,
 "nbformat_minor": 2
}
