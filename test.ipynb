{
 "cells": [
  {
   "cell_type": "code",
   "execution_count": 1,
   "metadata": {},
   "outputs": [
    {
     "name": "stdout",
     "output_type": "stream",
     "text": [
      "Hello World!\n"
     ]
    }
   ],
   "source": [
    "print(\"Hello World!\")"
   ]
  },
  {
   "cell_type": "code",
   "execution_count": 2,
   "metadata": {},
   "outputs": [],
   "source": [
    "a =1"
   ]
  },
  {
   "cell_type": "code",
   "execution_count": 3,
   "metadata": {},
   "outputs": [
    {
     "data": {
      "text/plain": [
       "1"
      ]
     },
     "execution_count": 3,
     "metadata": {},
     "output_type": "execute_result"
    }
   ],
   "source": [
    "a"
   ]
  },
  {
   "cell_type": "code",
   "execution_count": 4,
   "metadata": {},
   "outputs": [],
   "source": [
    "b = [1,2,3,4,5]"
   ]
  },
  {
   "cell_type": "code",
   "execution_count": 7,
   "metadata": {},
   "outputs": [
    {
     "name": "stdout",
     "output_type": "stream",
     "text": [
      "[1, 2, 3, 4, 5, 1, 2, 3, 4, 5]\n"
     ]
    }
   ],
   "source": [
    "print(b*2)"
   ]
  },
  {
   "cell_type": "code",
   "execution_count": 9,
   "metadata": {},
   "outputs": [
    {
     "name": "stdout",
     "output_type": "stream",
     "text": [
      "문제 1\n",
      "earth\n",
      "오타!! 다시 도전\n",
      "게임 소요 시간 : 1.04초\n",
      "문제 1\n",
      "tree\n",
      "통과!!\n",
      "게임 소요 시간 : 3.77초\n",
      "문제 2\n",
      "moon\n",
      "통과!!\n",
      "게임 소요 시간 : 5.97초\n",
      "문제 3\n",
      "strawberry\n",
      "통과!!\n",
      "게임 소요 시간 : 11.45초\n",
      "문제 4\n",
      "sky\n",
      "통과!!\n",
      "게임 소요 시간 : 13.80초\n",
      "문제 5\n",
      "flower\n",
      "통과!!\n",
      "게임 소요 시간 : 16.17초\n",
      "문제 6\n",
      "garlic\n",
      "통과!!\n",
      "게임 소요 시간 : 21.52초\n",
      "문제 7\n",
      "onion\n",
      "통과!!\n",
      "게임 소요 시간 : 25.78초\n",
      "문제 8\n",
      "moon\n",
      "오타!! 다시 도전\n",
      "게임 소요 시간 : 27.51초\n",
      "문제 8\n",
      "potato\n",
      "오타!! 다시 도전\n",
      "게임 소요 시간 : 30.55초\n",
      "문제 8\n",
      "flower\n",
      "통과!!\n",
      "게임 소요 시간 : 33.53초\n",
      "문제 9\n",
      "flower\n",
      "통과!!\n",
      "게임 소요 시간 : 34.98초\n",
      "문제 10\n",
      "flower\n",
      "통과!!\n",
      "게임 소요 시간 : 36.26초\n"
     ]
    }
   ],
   "source": [
    "import random\n",
    "import time\n",
    "\n",
    "try:\n",
    "    with open(\"word.txt\", 'r') as f:\n",
    "        word = f.read().split()  # word.txt 파일의 단어들을 리스트로 저장\n",
    "\n",
    "    input(\"타자 게임 준비되면 엔터!!\")\n",
    "    start = time.time()  # 시작 시간 기록\n",
    "\n",
    "    n = 1  # 문제 번호\n",
    "    while n < 11:  # 10문제 출제\n",
    "        print(\"문제\", n)\n",
    "        question = random.choice(word)  # 랜덤하게 단어 선택\n",
    "        print(question)  # 문제 출제\n",
    "        user = input()  # 사용자 입력\n",
    "        \n",
    "        if question == user:  # 정답이면\n",
    "            print(\"통과!!\")\n",
    "            n += 1\n",
    "        else:  # 오답이면\n",
    "            print(\"오타!! 다시 도전\")\n",
    "        \n",
    "        end = time.time()\n",
    "        print(f\"게임 소요 시간 : {end-start:.2f}초\")\n",
    "\n",
    "except:\n",
    "    print(\"파일을 찾을 수 없습니다.\")\n"
   ]
  },
  {
   "cell_type": "code",
   "execution_count": 7,
   "metadata": {},
   "outputs": [
    {
     "name": "stdout",
     "output_type": "stream",
     "text": [
      "[3 1 2]\n",
      "type[array([3, 1, 2])]\n",
      "<class 'list'>\n"
     ]
    }
   ],
   "source": [
    "import numpy as np\n",
    "x = np.array([3,1,2])\n",
    "print(x)\n",
    "print(type[x])\n",
    "print(type([3,1,2]))\n"
   ]
  },
  {
   "cell_type": "code",
   "execution_count": 5,
   "metadata": {},
   "outputs": [
    {
     "name": "stdout",
     "output_type": "stream",
     "text": [
      "1 1\n",
      "1 2\n"
     ]
    }
   ],
   "source": [
    "c= [[1],[1,2]]\n",
    "d = np.array([[1,1],[1,2]])\n",
    "\n",
    "for x,y in d:\n",
    "    print(x,y)"
   ]
  },
  {
   "cell_type": "code",
   "execution_count": 8,
   "metadata": {},
   "outputs": [
    {
     "name": "stdout",
     "output_type": "stream",
     "text": [
      " C ����̺��� �������� �̸��� �����ϴ�.\n",
      " ���� �Ϸ� ��ȣ: 7291-91F2\n",
      "\n",
      " c:\\Users\\zer12\\Desktop\\git-test ���͸�\n",
      "\n",
      "2024-12-13  ���� 11:44    <DIR>          .\n",
      "2024-12-13  ���� 11:44    <DIR>          ..\n",
      "2024-12-11  ���� 12:49    <DIR>          __pycache__\n",
      "2024-11-30  ���� 10:08               722 1.py\n",
      "2024-12-02  ���� 08:54             3,122 2.py\n",
      "2024-12-03  ���� 01:53             3,524 241203.py\n",
      "2024-12-05  ���� 01:13             3,348 241204.py\n",
      "2024-12-06  ���� 09:17            11,110 241205.py\n",
      "2024-12-06  ���� 01:53             3,538 241206.py\n",
      "2024-12-07  ���� 01:49             3,534 241207.py\n",
      "2024-12-09  ���� 01:53             7,121 241209.py\n",
      "2024-12-10  ���� 11:15             5,067 241210.py\n",
      "2024-12-12  ���� 10:39             2,546 241211.py\n",
      "2024-12-13  ���� 09:13            11,648 241212.py\n",
      "2024-12-13  ���� 11:44             3,356 241213.py\n",
      "2024-12-03  ���� 09:20             4,559 3.py\n",
      "2024-11-29  ���� 10:47                15 3ea.txt\n",
      "2024-12-11  ���� 12:53    <DIR>          bbb\n",
      "2024-12-10  ���� 11:22               144 calc_module.py\n",
      "2024-11-26  ���� 01:07                 0 git.txt\n",
      "2024-11-29  ���� 10:47                62 hello.txt\n",
      "2024-12-12  ���� 11:22                30 member.txt\n",
      "2024-12-12  ���� 01:55                12 member_tel.txt\n",
      "2024-11-27  ���� 11:35               101 messi.txt\n",
      "2024-12-10  ���� 01:51             3,398 module.py\n",
      "2024-12-11  ���� 12:40    <DIR>          modules\n",
      "2024-11-29  ���� 10:47                90 my.txt\n",
      "2024-12-11  ���� 01:21               249 mylib2.py\n",
      "2024-12-13  ���� 09:34    <DIR>          output\n",
      "2024-11-30  ���� 09:18                10 revert.txt\n",
      "2024-11-27  ���� 01:42    <DIR>          smartFactory\n",
      "2024-11-27  ���� 01:55    <DIR>          smartFactory1\n",
      "2024-11-30  ���� 01:52                36 syj.txt\n",
      "2024-12-11  ���� 12:28             2,181 sys_ex1.py\n",
      "2024-12-13  ���� 12:15             4,272 test.ipynb\n",
      "2024-12-11  ���� 09:13               540 test.py\n",
      "2024-12-12  ���� 12:18                20 test.txt\n",
      "2024-12-12  ���� 10:45                64 word.txt\n",
      "              30�� ����              74,419 ����Ʈ\n",
      "               8�� ���͸�  162,351,108,096 ����Ʈ ����\n"
     ]
    }
   ],
   "source": [
    "%ls"
   ]
  },
  {
   "cell_type": "code",
   "execution_count": 9,
   "metadata": {},
   "outputs": [
    {
     "name": "stdout",
     "output_type": "stream",
     "text": [
      "[3. 6. 9.]\n",
      "[-1. -2. -3.]\n",
      "[ 2.  8. 18.]\n",
      "[0.5 0.5 0.5]\n"
     ]
    }
   ],
   "source": [
    "x = np.array([1.0, 2.0, 3.0])\n",
    "y = np.array([2.0, 4.0, 6.0])\n",
    "print(x+y)\n",
    "print(x-y)\n",
    "print(x*y)\n",
    "print(x/y)"
   ]
  },
  {
   "cell_type": "code",
   "execution_count": 14,
   "metadata": {},
   "outputs": [
    {
     "name": "stdout",
     "output_type": "stream",
     "text": [
      "(3,)\n",
      "float64\n",
      "(2, 2)\n",
      "[1. 2. 3.]\n"
     ]
    }
   ],
   "source": [
    "print(x.shape)\n",
    "print(x.dtype)\n",
    "print(d.shape)\n",
    "print(y / 2.0)"
   ]
  },
  {
   "cell_type": "code",
   "execution_count": 15,
   "metadata": {},
   "outputs": [
    {
     "name": "stdout",
     "output_type": "stream",
     "text": [
      "1\n"
     ]
    }
   ],
   "source": [
    "print(x.ndim)"
   ]
  },
  {
   "cell_type": "code",
   "execution_count": 17,
   "metadata": {},
   "outputs": [
    {
     "name": "stdout",
     "output_type": "stream",
     "text": [
      "2\n"
     ]
    }
   ],
   "source": [
    "a = np.array([[1,2], [3,4], [5,6]])\n",
    "print(a.ndim)"
   ]
  },
  {
   "cell_type": "code",
   "execution_count": 18,
   "metadata": {},
   "outputs": [
    {
     "name": "stdout",
     "output_type": "stream",
     "text": [
      "(3, 2)\n"
     ]
    }
   ],
   "source": [
    "print(a.shape)"
   ]
  },
  {
   "cell_type": "code",
   "execution_count": 21,
   "metadata": {},
   "outputs": [
    {
     "name": "stdout",
     "output_type": "stream",
     "text": [
      "3\n"
     ]
    }
   ],
   "source": [
    "a = np.array([[[1],[2]], [[3],[4]], [[5],[6]]])\n",
    "print(a.ndim)"
   ]
  },
  {
   "cell_type": "code",
   "execution_count": 22,
   "metadata": {},
   "outputs": [
    {
     "name": "stdout",
     "output_type": "stream",
     "text": [
      "(3, 2, 1)\n"
     ]
    }
   ],
   "source": [
    "print(a.shape)"
   ]
  },
  {
   "cell_type": "code",
   "execution_count": 23,
   "metadata": {},
   "outputs": [],
   "source": [
    "a = np.array([[[1,2],[2,2]], [[3,2],[4,2]], [[5,2],[6,2]]])"
   ]
  },
  {
   "cell_type": "code",
   "execution_count": 24,
   "metadata": {},
   "outputs": [
    {
     "name": "stdout",
     "output_type": "stream",
     "text": [
      "3\n",
      "(3, 2, 2)\n"
     ]
    }
   ],
   "source": [
    "print(a.ndim)\n",
    "print(a.shape)"
   ]
  },
  {
   "cell_type": "code",
   "execution_count": 25,
   "metadata": {},
   "outputs": [
    {
     "data": {
      "text/plain": [
       "8"
      ]
     },
     "execution_count": 25,
     "metadata": {},
     "output_type": "execute_result"
    }
   ],
   "source": [
    "np.dot(4,2)"
   ]
  },
  {
   "cell_type": "code",
   "execution_count": 27,
   "metadata": {},
   "outputs": [
    {
     "data": {
      "text/plain": [
       "24"
      ]
     },
     "execution_count": 27,
     "metadata": {},
     "output_type": "execute_result"
    }
   ],
   "source": [
    "ndar1 = np.array([3,2])\n",
    "ndar2 = np.array([4,6])\n",
    "np.dot(ndar1,ndar2)\n"
   ]
  },
  {
   "cell_type": "code",
   "execution_count": 28,
   "metadata": {},
   "outputs": [
    {
     "data": {
      "text/plain": [
       "array([[ 7, 10],\n",
       "       [15, 22]])"
      ]
     },
     "execution_count": 28,
     "metadata": {},
     "output_type": "execute_result"
    }
   ],
   "source": [
    "ndar1 = np.array([[1,2],[3,4]])\n",
    "ndar2 = np.array([[1,2],[3,4]])\n",
    "np.dot(ndar1,ndar2)\n"
   ]
  },
  {
   "cell_type": "code",
   "execution_count": 29,
   "metadata": {},
   "outputs": [
    {
     "data": {
      "text/plain": [
       "array([[ 7, 10],\n",
       "       [15, 22]])"
      ]
     },
     "execution_count": 29,
     "metadata": {},
     "output_type": "execute_result"
    }
   ],
   "source": [
    "ndar1 = np.array([[1,2],[4,5]])\n",
    "ndar1 = np.array([[1,2],[3,4]])\n",
    "np.matmul(ndar1,ndar2) # (a,b) * (b,c) b위치 같아야함."
   ]
  },
  {
   "cell_type": "code",
   "execution_count": 32,
   "metadata": {},
   "outputs": [
    {
     "name": "stdout",
     "output_type": "stream",
     "text": [
      "(3, 2)\n",
      "2\n",
      "1\n",
      "[[6 3]\n",
      " [5 2]\n",
      " [4 1]]\n"
     ]
    }
   ],
   "source": [
    "ndar2 = np.array([[6,3],[5,2],[4,1]])\n",
    "print(ndar2.shape)\n",
    "print(ndar2.ndim)\n",
    "a = ndar2.flatten()\n",
    "print(a.ndim)\n",
    "print(ndar2)\n"
   ]
  },
  {
   "cell_type": "code",
   "execution_count": 33,
   "metadata": {},
   "outputs": [
    {
     "data": {
      "text/plain": [
       "array([[1, 2, 2],\n",
       "       [3, 3, 4]])"
      ]
     },
     "execution_count": 33,
     "metadata": {},
     "output_type": "execute_result"
    }
   ],
   "source": [
    "ndarr = np.array([[1,2],[2,3],[3,4]]) # 3X2\n",
    "ndarr.reshape(2,3) # 배열의 차원을 변경"
   ]
  },
  {
   "cell_type": "code",
   "execution_count": 35,
   "metadata": {},
   "outputs": [
    {
     "data": {
      "text/plain": [
       "array([[1],\n",
       "       [2],\n",
       "       [2],\n",
       "       [3],\n",
       "       [3],\n",
       "       [4]])"
      ]
     },
     "execution_count": 35,
     "metadata": {},
     "output_type": "execute_result"
    }
   ],
   "source": [
    "ndarr.reshape(6,1)"
   ]
  },
  {
   "cell_type": "code",
   "execution_count": 36,
   "metadata": {},
   "outputs": [
    {
     "data": {
      "text/plain": [
       "array([[1, 1, 4, 0],\n",
       "       [4, 2, 4, 3]])"
      ]
     },
     "execution_count": 36,
     "metadata": {},
     "output_type": "execute_result"
    }
   ],
   "source": [
    "np.random.randint(5, size=(2,4))"
   ]
  },
  {
   "cell_type": "code",
   "execution_count": 38,
   "metadata": {},
   "outputs": [
    {
     "data": {
      "text/plain": [
       "array([[0.05243432, 0.71805665, 0.42987965, 0.51586311],\n",
       "       [0.99581104, 0.0716856 , 0.15270293, 0.97349581]])"
      ]
     },
     "execution_count": 38,
     "metadata": {},
     "output_type": "execute_result"
    }
   ],
   "source": [
    "np.random.rand(2,4)"
   ]
  },
  {
   "cell_type": "code",
   "execution_count": 40,
   "metadata": {},
   "outputs": [],
   "source": [
    "rng = np.random.default_rng()\n"
   ]
  },
  {
   "cell_type": "code",
   "execution_count": 41,
   "metadata": {},
   "outputs": [
    {
     "data": {
      "text/plain": [
       "0.9115386346920135"
      ]
     },
     "execution_count": 41,
     "metadata": {},
     "output_type": "execute_result"
    }
   ],
   "source": [
    "rng.random()"
   ]
  },
  {
   "cell_type": "code",
   "execution_count": 42,
   "metadata": {},
   "outputs": [
    {
     "data": {
      "text/plain": [
       "array([[0, 1, 1, 1],\n",
       "       [2, 3, 8, 0]], dtype=int64)"
      ]
     },
     "execution_count": 42,
     "metadata": {},
     "output_type": "execute_result"
    }
   ],
   "source": [
    "rng.integers(0, 10, (2,4) )"
   ]
  },
  {
   "cell_type": "code",
   "execution_count": 43,
   "metadata": {},
   "outputs": [],
   "source": [
    "ndarr = np.array([[6,3],[5,2],[4,1]])"
   ]
  },
  {
   "cell_type": "code",
   "execution_count": 44,
   "metadata": {},
   "outputs": [
    {
     "data": {
      "text/plain": [
       "array([[ True, False],\n",
       "       [ True, False],\n",
       "       [False, False]])"
      ]
     },
     "execution_count": 44,
     "metadata": {},
     "output_type": "execute_result"
    }
   ],
   "source": [
    "ndarr > 4\n"
   ]
  },
  {
   "cell_type": "code",
   "execution_count": 45,
   "metadata": {},
   "outputs": [
    {
     "data": {
      "text/plain": [
       "array([6, 5])"
      ]
     },
     "execution_count": 45,
     "metadata": {},
     "output_type": "execute_result"
    }
   ],
   "source": [
    "ndarr = np.array([[6,3],[5,2],[4,1]])\n",
    "ndarr[ndarr > 4]"
   ]
  },
  {
   "cell_type": "code",
   "execution_count": null,
   "metadata": {},
   "outputs": [],
   "source": []
  }
 ],
 "metadata": {
  "kernelspec": {
   "display_name": "base",
   "language": "python",
   "name": "python3"
  },
  "language_info": {
   "codemirror_mode": {
    "name": "ipython",
    "version": 3
   },
   "file_extension": ".py",
   "mimetype": "text/x-python",
   "name": "python",
   "nbconvert_exporter": "python",
   "pygments_lexer": "ipython3",
   "version": "3.12.7"
  }
 },
 "nbformat": 4,
 "nbformat_minor": 2
}
